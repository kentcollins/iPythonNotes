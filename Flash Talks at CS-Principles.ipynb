{
 "metadata": {
  "name": ""
 },
 "nbformat": 3,
 "nbformat_minor": 0,
 "worksheets": [
  {
   "cells": [
    {
     "cell_type": "markdown",
     "metadata": {},
     "source": [
      "Questions from Parking Lot\n",
      "==="
     ]
    },
    {
     "cell_type": "markdown",
     "metadata": {},
     "source": [
      "End of May, anticipate the example activities\n",
      "\n",
      "Fifty schools is a full cohort; two questions per pilot instructor = 100 for a test bank\n",
      "\n",
      "Who is going to look at the performance tasks? The Development committee, in June\n",
      "\n",
      "Dates for next meeting AP Annual Conference in Philly (July 9/10) and March SIGCSE (March 7/8)\n",
      "\n",
      "Succeed at different times at different levels\n",
      "\n",
      "How do you assess Cooperative Learning?\n",
      "\n",
      "Big Data - baby names, endangered species, Excel and pivot tables, code-in-the-browser, house-data probe readings\n",
      "\n"
     ]
    },
    {
     "cell_type": "markdown",
     "metadata": {},
     "source": [
      "Flash Talks\n",
      "===\n"
     ]
    },
    {
     "cell_type": "markdown",
     "metadata": {},
     "source": [
      "Prepared Deck advances at 15 sec intervals for the total time, 5 minutes\n",
      "\n",
      "Tony Graham, PLTW CS Pilot (CSE) PLTW is a step-by-step process, fully specific curriculum, Canvas delivery system, Lego Internet delivery system.  Servers/routers/lost packets/etc.  Texas can now get a CS specialization on their diploma and if two years, a foreign language credit.  Would someone who has taken the PLTW perform well on the Principles exam?  Consider: Scratch, App Inventor, Alice progression to support programming and the Python to handle the data PT.\n",
      "\n",
      "Kelly Powers, Boston.  Mobile CSP Ralph Morelli.  Evidence = Projects + Google Sites  Impact - Off-site invitations for students.  Elevator Pitch, Design storyboard, Write up explanation of the procedure, events, and variables maintained in the application. If ninth grade is not ideal for Morelli, what grade level is?  Can ECS\n",
      "\n",
      "Crystal Furman.  Broken out units by PT.  Google site for portfolios.  History project on a famous CS figure.  Infographics with partner.  Writing in essay format skipped questions.  Deadlines for each part.  Alice 3.0 and Java for programming section.  Python will replace java and incorporate EarSketch.  Contact lens for diabetics -- algorithm is a loop with nested if statement.  Abstraction == generaliations, simulate input from keyboard while modeling behavior from lens.  \n",
      "\n",
      "Jeff Gray (University of Alabama).  Cooperative learning.  Curriculum alone does not drive engagement.  \"Anyone, anyone? Beuhler?\"  Design patterns for learing.  PIES promotes learning.  Positive Interdependence - same side for completion, individual accountability, Equal participation (time), and Simultaneous Interaction (inner/outer circle).  Class building to become a caring community can include fun activities to build a team and initiate collaboration.  Jot thoughts - answer question on sticky, circle around, select best answer.  Students feel safer in smaller groups than in front of class.  Peer reinforcement is more frequent and valuable.   \"Pedagogical design patters\"  Jeff - how do you see Cooperative Learning being implemented alongside Peer Instruction or POGIL\n",
      "\n",
      "Carol Yarbrough  (CS for Alabama).  School of Fine Arts.  Success = enjoyment and learning.  Some students prefer text based languages (Python) as opposed to graphical.  9th graders.  Lots of time on flow charting.  ACSL (computer science league competition).  For students who are not up to speed on writing (9th graders) would they be able to pass enough of the exam?\n",
      "\n",
      "Eric Allatta (A Lotta this)  Create - Scaffolding.  Granular PT administration.  mostly sophomores.  Create One Month 39 horus of period.  Break down a task and a clear idea of large task as smaller projects.    Daily deliverables, feedback survey, daily journals.  Where, when and how to do it.  Cloudlab.newvisions.org  will automate document sharing.  Using pre-filled forms to provide feedback.  Partner Survey.  Reflect on yourself as a partner.  Seated strategically.  homogenous pairing.  13 days of deliverables.  Links for each day.  Every day, update a slide at the top.  Google form with pre-filled URL.  1-5 my partner and I are on track, \"1 thing I'd like my partner to focus on...\" Visual cues  bit.ly/createmasterdoc  light gray prompt with a large white area for responding.  How much time?  Begin feedback 20 minutes before for partner feedback, 10 minutes for individual reflection (10 minutes allotted for each)  Will group heterogeneously for most of the class but for assignments where a partner's score could be affected, will hold them to their expectations (IEP, absentee, etc.)\n"
     ]
    },
    {
     "cell_type": "code",
     "collapsed": false,
     "input": [],
     "language": "python",
     "metadata": {},
     "outputs": []
    }
   ],
   "metadata": {}
  }
 ]
}