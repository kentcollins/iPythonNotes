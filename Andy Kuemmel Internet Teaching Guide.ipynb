{
 "metadata": {
  "name": ""
 },
 "nbformat": 3,
 "nbformat_minor": 0,
 "worksheets": [
  {
   "cells": [
    {
     "cell_type": "markdown",
     "metadata": {},
     "source": [
      "Teaching Guide -- Internet\n",
      "===\n",
      "\n",
      "Two units with multiple activities for each (5 activities for this activity) (Not designed to be perfect system or lecture)\n",
      "\n",
      "AVOID SAYING \"This lesson is about\" (introduces preconceptions - I know it, it's boring, etc.)\n",
      "\n",
      "Ready, set, go!  Approach\n",
      "\n",
      "Ready -- checkoff list.  Teacher has master (root) list.  Each table has a bag per person, marker, list of all students\n",
      "\n",
      "Cooperative learning roles - 1. Supply Getter, 2 - List keeper, 3 - bag mover, 4 - communicator (only student who may talk outside group)\n",
      "\n",
      "Set - each student numbers their bag and tells the listkeeper their number.  Bags placed on ground, opened up.  Problem with communicator not being at station when other communicators arrive.  Suggest one thing to make things go easier.  Pause.  Internet haiku.  \n",
      "\n",
      "Stretching and moving activity - go deliver to their bags.\n",
      "\n",
      "Facilitate by numbers:\n",
      "\n",
      "Person 1 - What worked and did not work? Communicator away, non-unique number, \n",
      "\n",
      "Person 2 - What would happen if a person changed tables?  Would still be able to report information.  If moved to a table where someone else has the same number?  Update root?  Still report?\n",
      "\n",
      "Person 3 - How could we improve the system? Including table number, randomize nunmbers, arranging bags by number, sorting/searching.\n",
      "\n",
      "Person 4 - How could this system scale to the entire school?  machines IP, tables versus rooms, by floors.  \n",
      "\n",
      "Conclude: What if questions?  Will not answer it - everybody tried to et into room at same time, changes tables, same number at table, room is unreachable, root is unreachable, what if bags were sorted?  How would/could we simulate?\n",
      "\n",
      "Follow Up with assignments. What is a DNS sever?  How can you find the IP address of your computer, what is name spoofing? \n",
      "\n",
      "Optionally, write an algorithm for how this would work in your school?  Step by step sequence of steps that terminates.  Write a program that takes your favorite URL's and outputs the IP addresses for each.\n",
      "\n",
      "Group processing. What are your students' needs?\n",
      " I would have instruction cards as reminders for the roles\n",
      " This was a good example of gamification.  Parameters of games.\n",
      " Super secret identity\n",
      " Student suggestions introduce the ideas of: standards, protocols, routing, etc.\n",
      " Focus on revealing the problem beneath the process\n",
      " What if no walls? (parallel) Servers? Constraints on numbers?  Trees?  What if designing communications system for our school?"
     ]
    },
    {
     "cell_type": "markdown",
     "metadata": {},
     "source": [
      "Dana Tyree\n",
      "===\n",
      "AP Professional Development\n",
      "\n",
      "Collaborative development of teaching guides.\n",
      "\n",
      "Backwards design.  Work from outcomes to activities.\n",
      "\n",
      "Wiggins and McTighe.\n",
      "\n",
      "Formative assessment - monitor, spur discussion, write down expectations of what you expect students to be saying; diagram the activity; individual writing prompt based on class discussion, describe one component that helps a system scale; exit ticket; journalling; peer review of journal entries; meta-role ensuring everyone is on task; website for backend chatter \"www.todaysmeet.com\"; choice activity -- draw from a variety of topics; next day activity involving terms; pair-share 50% talking at a time; Piazza at Stanford;  rephrase; clicker questions; quiz-quiz-trade; quick write, quick draw, flow chart;\n",
      "\n",
      "Differentiation: Instructions visually, spoken, cues for referring back later, choose role for certain students; mobility; socio-economic dynamics; one role to document what is going on in a visual format/graphic; use electronic means to communicate; picture creation mentioned; start with a written task; rotate roles; learning style inventory; exemplars; "
     ]
    }
   ],
   "metadata": {}
  }
 ]
}