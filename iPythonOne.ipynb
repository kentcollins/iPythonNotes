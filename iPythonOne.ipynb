{
 "metadata": {
  "name": ""
 },
 "nbformat": 3,
 "nbformat_minor": 0,
 "worksheets": [
  {
   "cells": [
    {
     "cell_type": "code",
     "collapsed": false,
     "input": [
      "import math\n",
      "\n",
      "print math.pi\n",
      "\n",
      "print math.sin(math.pi)\n",
      "\n",
      "def byTwo(number):\n",
      "    return number*2\n",
      "\n",
      "print(byTwo(4))\n",
      "print(byTwo(36))\n"
     ],
     "language": "python",
     "metadata": {},
     "outputs": [
      {
       "output_type": "stream",
       "stream": "stdout",
       "text": [
        "3.14159265359\n",
        "1.22460635382e-16\n",
        "8\n",
        "72\n"
       ]
      }
     ],
     "prompt_number": 1
    },
    {
     "cell_type": "markdown",
     "metadata": {},
     "source": [
      "This is a comment written in *markdown*.  **Markdown** allows you to:\n",
      "\n",
      "    *add styling information to your text\n",
      "    *possible use LateX presentation for math\n",
      "    *access to other presentation languages\n",
      "    \n",
      "Why would I want to use Markdown?\n",
      "\n",
      "    1. Because it is cool\n",
      "    2. It makes things more beautiful"
     ]
    }
   ],
   "metadata": {}
  }
 ]
}