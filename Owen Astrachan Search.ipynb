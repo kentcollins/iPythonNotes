{
 "metadata": {
  "name": ""
 },
 "nbformat": 3,
 "nbformat_minor": 0,
 "worksheets": [
  {
   "cells": [
    {
     "cell_type": "markdown",
     "metadata": {},
     "source": [
      "Owen -- Search\n",
      "===\n",
      "\n",
      "If you wanted to know the number one movie of 1985, how would you find that out?\n",
      "\n",
      "(Tag Cloud) Tagcrowd.com will Wordle the answers of an Excel list to create a common definition.\n",
      "\n",
      "Used Google image search URL to discuss query structure.  How to get our Wordle to be on first page of results.\n",
      "\n",
      "What is the role of ampersand &\n",
      "\n",
      "How does Bing affect URL? (Independent of search engine, common protocol)\n",
      "\n",
      "Size of screen?\n",
      "\n",
      "Questions you have, related to URL?\n",
      "\n",
      "Binary Search\n",
      "===\n",
      "First kind of search - not so binary Search.  Bob Barker playing price is right -- why did he sit?  Are her guesses reasonable? Can you produce a graph or flow chart demonstrating her algorithm?  [Draw binary search WITHOUT labels so that numbers do not confound the issue]\n",
      "\n",
      "Questions related to binary search? algorithms?\n",
      "\n",
      "Content ID Search\n",
      "===\n",
      "Heddaway - what is love?\n",
      "\n",
      "open in incognito window\n",
      "\n",
      "Green Dance (When pass all tests - video or write a poem) Don't see ad where it says \"Join the NRA\".  how does YouTube not know to display with \"BuyNow\" on iTunes?  25 million reference files for audio/video and scan 400 years of video every day against the database.  They use this to identify songs.  \n",
      "\n",
      "Think, write, share.  Content-ID is used to search for copyright infringement.  Protects YouTube.  DO not need 400 million humans to review the incoming data stream.  While YouTube CAN take it down automatically.  YouTube sticks ads onto content in lieu of taking down on behalf of copyright holder.  Jenna Marbles.  Putting on Make-up drunk. \n",
      "\n",
      "FFTs (Fast Fourier Transforms) are used behind this stuff to transform data.\n",
      "\n",
      "You have to make an educational video and dub it with 1) a song you think will remain, and 2) a song you think will be taken down.  When taken down, recommended being put back up due to educational content.\n",
      "\n",
      "Google mug shots not online due to damaging reputations when arrested, not when proven guilty.\n",
      "\n",
      "Web Search\n",
      "====\n",
      "Take a piece of paper and give me an analog artifact (yes, on paper) In class, can do digital artifact "
     ]
    },
    {
     "cell_type": "code",
     "collapsed": false,
     "input": [],
     "language": "python",
     "metadata": {},
     "outputs": []
    },
    {
     "cell_type": "code",
     "collapsed": false,
     "input": [],
     "language": "python",
     "metadata": {},
     "outputs": []
    }
   ],
   "metadata": {}
  }
 ]
}