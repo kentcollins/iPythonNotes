{
 "metadata": {
  "name": "Python_Gaddis_Notes.ipynb"
 },
 "nbformat": 3,
 "nbformat_minor": 0,
 "worksheets": [
  {
   "cells": [
    {
     "cell_type": "heading",
     "level": 1,
     "metadata": {},
     "source": [
      "What is a program?"
     ]
    },
    {
     "cell_type": "markdown",
     "metadata": {},
     "source": [
      "A program is a set of instructions that control how a computer manipulates data.\n",
      "\n",
      "Concept 2.1 Programs must be carefully designed before they are written.  During the design process, programmers use tools such as pseudocode and flowcharts to create models of programs."
     ]
    },
    {
     "cell_type": "markdown",
     "metadata": {},
     "source": [
      "<h1>Basic Program Development Cycle</h1>\n",
      "\n",
      "<ol>\n",
      "    <li> Design the program\n",
      "    <li> Write the code\n",
      "    <li> Correct syntax errors\n",
      "    <li> Test the program\n",
      "    <li> Correct logic errors\n",
      "    </ol>\n",
      "        \n",
      "<h2> Designing the program </h2>\n",
      "<ol><li>Understand the task the program must perform\n",
      "<li>Determine the steps that must be taken to perform the task\n",
      "</ol>\n",
      "\n",
      "<h3>Understand the task</h3>A software requirement is simply a single task that the program must perform in order to satisfy the customer.  Compare: design a program that will correctly sum two integers, or, validate input, etc.\n",
      "\n",
      "<h3>Determine the steps to perform the task</h3>Breakdown.  Decompose. Generate algorithm.<ul> <li>pseudocode  - no syntax, never compiled or executed<li>flow charts - diagram/picture; ovals (terminal), parallelograms (I/O), rectangles (processing)</ul>\n",
      "\n",
      "<h2>Concept 2.2</h2> Input is data that the program receives.  When a program receives data, it usually processes it by performing some operation with it.  The result of the operation is sent out of the program as output.\n",
      "\n",
      "Sources of input - keyboard, files, network\n",
      "Destinations for output - display screen, files, printer, network\n",
      "\n",
      "<h2>Concept 2.3 - You can use the print function to display output in Python</h2>A function is a piece of prewritten code that performs an operation.  When programmers cause a function to act, they refer to that as \"calling\" the function.  <h3>Strings and String Literals</h3>\n",
      "\n"
     ]
    },
    {
     "cell_type": "code",
     "collapsed": false,
     "input": [
      "print \"Hello\"\n"
     ],
     "language": "python",
     "metadata": {},
     "outputs": [
      {
       "output_type": "stream",
       "stream": "stdout",
       "text": [
        "Hello\n"
       ]
      }
     ],
     "prompt_number": 1
    },
    {
     "cell_type": "code",
     "collapsed": false,
     "input": [],
     "language": "python",
     "metadata": {},
     "outputs": []
    }
   ],
   "metadata": {}
  }
 ]
}