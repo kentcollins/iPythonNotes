{
 "metadata": {
  "name": "physics.ipynb"
 },
 "nbformat": 3,
 "nbformat_minor": 0,
 "worksheets": [
  {
   "cells": [
    {
     "cell_type": "heading",
     "level": 1,
     "metadata": {},
     "source": [
      "Exploring Python Symbol Manipulation"
     ]
    },
    {
     "cell_type": "code",
     "collapsed": false,
     "input": [
      "from __future__ import division\n",
      "from sympy import *\n",
      "x, y, z, t = symbols('x y z t')\n",
      "k, m, n = symbols('k m n', integer=True)\n",
      "f, g, h = symbols('f g h', cls=Function)\n",
      "init_printing()\n",
      "my_integral = Integral(x, x)\n",
      "my_integral += 5\n",
      "my_integral\n",
      "x = y + 2\n",
      "print x.subs(y, 4)\n",
      "print x"
     ],
     "language": "python",
     "metadata": {},
     "outputs": [
      {
       "output_type": "stream",
       "stream": "stdout",
       "text": [
        "6\n",
        "y + 2\n"
       ]
      }
     ],
     "prompt_number": 26
    },
    {
     "cell_type": "markdown",
     "metadata": {},
     "source": [
      "Here, we define a function that operates over all members of a domain [here, time is suggested]"
     ]
    },
    {
     "cell_type": "code",
     "collapsed": false,
     "input": [
      "def f(t):\n",
      "    return 2*t"
     ],
     "language": "python",
     "metadata": {},
     "outputs": [],
     "prompt_number": 27
    },
    {
     "cell_type": "code",
     "collapsed": false,
     "input": [
      "domain = [0, 1, 2, 3, 4, 5]\n",
      "data = []\n",
      "for t in domain:\n",
      "    data.append([t, f(t)])\n",
      "data"
     ],
     "language": "python",
     "metadata": {},
     "outputs": [
      {
       "latex": [
        "$$\\begin{bmatrix}\\begin{bmatrix}0, & 0\\end{bmatrix}, & \\begin{bmatrix}1, & 2\\end{bmatrix}, & \\begin{bmatrix}2, & 4\\end{bmatrix}, & \\begin{bmatrix}3, & 6\\end{bmatrix}, & \\begin{bmatrix}4, & 8\\end{bmatrix}, & \\begin{bmatrix}5, & 10\\end{bmatrix}\\end{bmatrix}$$"
       ],
       "metadata": {},
       "output_type": "pyout",
       "prompt_number": 28,
       "text": [
        "[[0, 0], [1, 2], [2, 4], [3, 6], [4, 8], [5, 10]]"
       ]
      }
     ],
     "prompt_number": 28
    },
    {
     "cell_type": "code",
     "collapsed": false,
     "input": [
      "import matplotlib.pyplot as plt\n",
      "import numpy as np"
     ],
     "language": "python",
     "metadata": {},
     "outputs": [],
     "prompt_number": 29
    },
    {
     "cell_type": "code",
     "collapsed": false,
     "input": [
      "for point in data:\n",
      "    plt.plot(point[0], point[1], 'ro')\n",
      "    \n",
      "plt.show()"
     ],
     "language": "python",
     "metadata": {},
     "outputs": [
      {
       "metadata": {},
       "output_type": "display_data",
       "png": "[encoded data removed]",
       "text": [
        "<matplotlib.figure.Figure at 0x10c1e07d0>"
       ]
      }
     ],
     "prompt_number": 30
    },
    {
     "cell_type": "code",
     "collapsed": false,
     "input": [
      "def f(t):\n",
      "    return sin(t)\n",
      "\n",
      "data=[]\n",
      "domain = linspace(0, 2*pi, 100)\n",
      "for t in domain:\n",
      "    data.append([t, f(t)])\n",
      "\n",
      "for point in data:\n",
      "    plt.plot(point[0], point[1], 'r+')    \n",
      "plt.show()\n",
      "\n"
     ],
     "language": "python",
     "metadata": {},
     "outputs": [
      {
       "metadata": {},
       "output_type": "display_data",
       "png": "[encoded data removed]",
       "text": [
        "<matplotlib.figure.Figure at 0x10c192610>"
       ]
      }
     ],
     "prompt_number": 19
    },
    {
     "cell_type": "code",
     "collapsed": false,
     "input": [
      "def f(t):\n",
      "    return cos(t)\n",
      "\n",
      "data=[]\n",
      "domain = linspace(0, 2*pi, 100)\n",
      "for t in domain:\n",
      "    data.append([t, f(t)])\n",
      "\n",
      "data_array = np.array(data)\n",
      "\n",
      "plt.plot(data_array[:,0], data_array[:,1], 'r+')   \n",
      "plt.show()"
     ],
     "language": "python",
     "metadata": {},
     "outputs": [
      {
       "metadata": {},
       "output_type": "display_data",
       "png": "[encoded data removed]",
       "text": [
        "<matplotlib.figure.Figure at 0x10c1e0450>"
       ]
      }
     ],
     "prompt_number": 20
    }
   ],
   "metadata": {}
  }
 ]
}