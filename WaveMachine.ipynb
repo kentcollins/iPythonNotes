{
 "metadata": {
  "name": ""
 },
 "nbformat": 3,
 "nbformat_minor": 0,
 "worksheets": [
  {
   "cells": [
    {
     "cell_type": "markdown",
     "metadata": {},
     "source": [
      "Wave Machine Controller\n",
      "======\n",
      "\n"
     ]
    },
    {
     "cell_type": "markdown",
     "metadata": {},
     "source": [
      "Goal: Design a system that converts the desired output characteristics of a wave into the motor control signals necessary to produce that wave in a wave tank."
     ]
    },
    {
     "cell_type": "markdown",
     "metadata": {},
     "source": [
      "Approach:\n",
      "\n",
      "* Describe the forward and backward oscillations of the wave as separate equations and evaluate them sequentially over a specified period to determine the desired position of the wave arm as a function of time.\n",
      "* Compare the desired position of the wave with the actual position sensed by an encoder to determine the error\n",
      "* Drive the motor towards the desired position using closed loop PID control\n"
     ]
    },
    {
     "cell_type": "markdown",
     "metadata": {},
     "source": [
      "Accept as input:\n",
      "\n",
      "* the desired maximum displacement of the arm during each stroke, <i> max_displacement </i>\n",
      "* the desired period for the complete cycle in seconds, <i> period </i>\n",
      "* the ratio of time between modes, <i> ratio </i> \n",
      "* an expression, <i> f(t) </i> for the extension stroke\n",
      "* an expression, <i> g(t) </i> for the retraction stroke"
     ]
    },
    {
     "cell_type": "code",
     "collapsed": false,
     "input": [
      "from IPython.display import Math\n",
      "Math(r\"\"\"\\left\\{\\begin{matrix}f(t) = at+b\n",
      "\\\\\n",
      "g(t) = ct+d\n",
      "\\end{matrix}\\right.\"\"\")"
     ],
     "language": "python",
     "metadata": {
      "slideshow": {
       "slide_type": "-"
      }
     },
     "outputs": [
      {
       "latex": [
        "$$\\left\\{\\begin{matrix}f(t) = at+b\n",
        "\\\\\n",
        "g(t) = ct+d\n",
        "\\end{matrix}\\right.$$"
       ],
       "metadata": {},
       "output_type": "pyout",
       "prompt_number": 53,
       "text": [
        "<IPython.core.display.Math at 0xa5ba0ac>"
       ]
      }
     ],
     "prompt_number": 53
    },
    {
     "cell_type": "markdown",
     "metadata": {},
     "source": [
      "Setup"
     ]
    },
    {
     "cell_type": "code",
     "collapsed": false,
     "input": [
      "max_displacement = 10   # 10 inches\n",
      "period = 11  # 11 seconds\n",
      "ratio = 0.1  # 1 sec extension, 10 sec retraction\n",
      "turnaround_time = period*ratio/(ratio+1) "
     ],
     "language": "python",
     "metadata": {},
     "outputs": [],
     "prompt_number": 54
    },
    {
     "cell_type": "code",
     "collapsed": false,
     "input": [
      "def f(t):\n",
      "    return max_displacement*t/turnaround_time\n",
      "    \n",
      "def g(t): \n",
      "    return max_displacement - max_displacement/(period-turnaround_time)*t\n",
      "    \n",
      "def get_desired_position(time):\n",
      "    if time < turnaround_time:\n",
      "        return f(time)\n",
      "    else:\n",
      "        return g(time-turnaround_time)\n"
     ],
     "language": "python",
     "metadata": {},
     "outputs": [],
     "prompt_number": 60
    },
    {
     "cell_type": "markdown",
     "metadata": {},
     "source": [
      "Initialize PID Control variables"
     ]
    },
    {
     "cell_type": "code",
     "collapsed": false,
     "input": [
      "Kp = 0.5\n",
      "Ki = 0.0\n",
      "Kd = 0.0\n",
      "time_started, last_updated = 0, 0 # when start, grab values\n",
      "accumulated_error = 0 # integrated error, update each cycle\n",
      "previous_error = 0"
     ],
     "language": "python",
     "metadata": {},
     "outputs": [],
     "prompt_number": 65
    },
    {
     "cell_type": "markdown",
     "metadata": {},
     "source": [
      "Routine to manage and update PID values"
     ]
    },
    {
     "cell_type": "code",
     "collapsed": false,
     "input": [
      "def updatePID(desired_position, actual_position, elapsed_time):\n",
      "    global accumulated_error, previous_error\n",
      "    current_error = desired_position - actual_position\n",
      "    # P\n",
      "    proportional_term = Kp * current_error\n",
      "    # I\n",
      "    accumulated_error += current_error * elapsed_time\n",
      "    integral_term = Ki * accumulated_error\n",
      "    # D\n",
      "    differential_term = Kd * (current_error - previous_error)/elapsed_time\n",
      "    previous_error = current_error\n",
      "    # Summed contributions\n",
      "    control_signal = proportional_term + differential_term + integral_term\n",
      "    return control_signal\n"
     ],
     "language": "python",
     "metadata": {},
     "outputs": [],
     "prompt_number": 63
    },
    {
     "cell_type": "code",
     "collapsed": false,
     "input": [
      "import time\n",
      "\n",
      "time_to_run = 12 # seconds\n",
      "\n",
      "def start():\n",
      "    global time_started\n",
      "    time_started = time.time()\n",
      "    time_to_quit = time_started+time_to_run\n",
      "    current_time = time_started\n",
      "    previous_time = time_started\n",
      "\n",
      "    while current_time < time_to_quit:\n",
      "        current_time = time.time()\n",
      "        # calculate the desired position\n",
      "        point_in_cycle = (current_time-time_started)%period\n",
      "        desired_position = get_desired_position(point_in_cycle)\n",
      "        print point_in_cycle, desired_position\n",
      "        # detect the actual position\n",
      "        \n",
      "        # calculate the control signal\n",
      "        elapsed_time = current_time - previous_time\n",
      "        control_signal = updatePID(desired_position, 0, elapsed_time)\n",
      "        # calculate and set motor controller signal\n",
      "        print control_signal\n",
      "        # prepare for next cycle\n",
      "        previous_time = current_time\n",
      "        time.sleep(0.1)\n",
      "        \n",
      "start()\n",
      "    \n"
     ],
     "language": "python",
     "metadata": {},
     "outputs": [
      {
       "output_type": "stream",
       "stream": "stdout",
       "text": [
        "1.90734863281e-06 1.90734863281e-05\n",
        "9.53674316406e-06\n",
        "0.100317001343"
       ]
      },
      {
       "output_type": "stream",
       "stream": "stdout",
       "text": [
        " 1.00317001343\n",
        "0.501585006714\n",
        "0.203171014786"
       ]
      },
      {
       "output_type": "stream",
       "stream": "stdout",
       "text": [
        " 2.03171014786\n",
        "1.01585507393\n",
        "0.306133031845"
       ]
      },
      {
       "output_type": "stream",
       "stream": "stdout",
       "text": [
        " 3.06133031845\n",
        "1.53066515923\n",
        "0.408863067627"
       ]
      },
      {
       "output_type": "stream",
       "stream": "stdout",
       "text": [
        " 4.08863067627\n",
        "2.04431533813\n",
        "0.510397911072"
       ]
      },
      {
       "output_type": "stream",
       "stream": "stdout",
       "text": [
        " 5.10397911072\n",
        "2.55198955536\n",
        "0.611225128174"
       ]
      },
      {
       "output_type": "stream",
       "stream": "stdout",
       "text": [
        " 6.11225128174\n",
        "3.05612564087\n",
        "0.712855100632"
       ]
      },
      {
       "output_type": "stream",
       "stream": "stdout",
       "text": [
        " 7.12855100632\n",
        "3.56427550316\n",
        "0.814414024353"
       ]
      },
      {
       "output_type": "stream",
       "stream": "stdout",
       "text": [
        " 8.14414024353\n",
        "4.07207012177\n",
        "0.916111946106"
       ]
      },
      {
       "output_type": "stream",
       "stream": "stdout",
       "text": [
        " 9.16111946106\n",
        "4.58055973053\n",
        "1.0176551342"
       ]
      },
      {
       "output_type": "stream",
       "stream": "stdout",
       "text": [
        " 9.9823448658\n",
        "4.9911724329\n",
        "1.11918091774"
       ]
      },
      {
       "output_type": "stream",
       "stream": "stdout",
       "text": [
        " 9.88081908226\n",
        "4.94040954113\n",
        "1.22056508064"
       ]
      },
      {
       "output_type": "stream",
       "stream": "stdout",
       "text": [
        " 9.77943491936\n",
        "4.88971745968\n",
        "1.32197499275"
       ]
      },
      {
       "output_type": "stream",
       "stream": "stdout",
       "text": [
        " 9.67802500725\n",
        "4.83901250362\n",
        "1.42276597023"
       ]
      },
      {
       "output_type": "stream",
       "stream": "stdout",
       "text": [
        " 9.57723402977\n",
        "4.78861701488\n",
        "1.5244281292"
       ]
      },
      {
       "output_type": "stream",
       "stream": "stdout",
       "text": [
        " 9.4755718708\n",
        "4.7377859354\n",
        "1.62595510483"
       ]
      },
      {
       "output_type": "stream",
       "stream": "stdout",
       "text": [
        " 9.37404489517\n",
        "4.68702244759\n",
        "1.72748994827"
       ]
      },
      {
       "output_type": "stream",
       "stream": "stdout",
       "text": [
        " 9.27251005173\n",
        "4.63625502586\n",
        "1.82905101776"
       ]
      },
      {
       "output_type": "stream",
       "stream": "stdout",
       "text": [
        " 9.17094898224\n",
        "4.58547449112\n",
        "1.93036603928"
       ]
      },
      {
       "output_type": "stream",
       "stream": "stdout",
       "text": [
        " 9.06963396072\n",
        "4.53481698036\n",
        "2.03186392784"
       ]
      },
      {
       "output_type": "stream",
       "stream": "stdout",
       "text": [
        " 8.96813607216\n",
        "4.48406803608\n",
        "2.1333899498"
       ]
      },
      {
       "output_type": "stream",
       "stream": "stdout",
       "text": [
        " 8.8666100502\n",
        "4.4333050251\n",
        "2.2347240448"
       ]
      },
      {
       "output_type": "stream",
       "stream": "stdout",
       "text": [
        " 8.7652759552\n",
        "4.3826379776\n",
        "2.33617305756"
       ]
      },
      {
       "output_type": "stream",
       "stream": "stdout",
       "text": [
        " 8.66382694244\n",
        "4.33191347122\n",
        "2.43698406219"
       ]
      },
      {
       "output_type": "stream",
       "stream": "stdout",
       "text": [
        " 8.56301593781\n",
        "4.2815079689\n",
        "2.53852510452"
       ]
      },
      {
       "output_type": "stream",
       "stream": "stdout",
       "text": [
        " 8.46147489548\n",
        "4.23073744774\n",
        "2.63920307159"
       ]
      },
      {
       "output_type": "stream",
       "stream": "stdout",
       "text": [
        " 8.36079692841\n",
        "4.1803984642\n",
        "2.73981809616"
       ]
      },
      {
       "output_type": "stream",
       "stream": "stdout",
       "text": [
        " 8.26018190384\n",
        "4.13009095192\n",
        "2.84144902229"
       ]
      },
      {
       "output_type": "stream",
       "stream": "stdout",
       "text": [
        " 8.15855097771\n",
        "4.07927548885\n",
        "2.94296503067"
       ]
      },
      {
       "output_type": "stream",
       "stream": "stdout",
       "text": [
        " 8.05703496933\n",
        "4.02851748466\n",
        "3.04443001747"
       ]
      },
      {
       "output_type": "stream",
       "stream": "stdout",
       "text": [
        " 7.95556998253\n",
        "3.97778499126\n",
        "3.14564704895"
       ]
      },
      {
       "output_type": "stream",
       "stream": "stdout",
       "text": [
        " 7.85435295105\n",
        "3.92717647552\n",
        "3.24658703804"
       ]
      },
      {
       "output_type": "stream",
       "stream": "stdout",
       "text": [
        " 7.75341296196\n",
        "3.87670648098\n",
        "3.3472969532"
       ]
      },
      {
       "output_type": "stream",
       "stream": "stdout",
       "text": [
        " 7.6527030468\n",
        "3.8263515234\n",
        "3.44896602631"
       ]
      },
      {
       "output_type": "stream",
       "stream": "stdout",
       "text": [
        " 7.55103397369\n",
        "3.77551698685\n",
        "3.55044198036"
       ]
      },
      {
       "output_type": "stream",
       "stream": "stdout",
       "text": [
        " 7.44955801964\n",
        "3.72477900982\n",
        "3.65111899376"
       ]
      },
      {
       "output_type": "stream",
       "stream": "stdout",
       "text": [
        " 7.34888100624\n",
        "3.67444050312\n",
        "3.75189709663"
       ]
      },
      {
       "output_type": "stream",
       "stream": "stdout",
       "text": [
        " 7.24810290337\n",
        "3.62405145168\n",
        "3.85337591171"
       ]
      },
      {
       "output_type": "stream",
       "stream": "stdout",
       "text": [
        " 7.14662408829\n",
        "3.57331204414\n",
        "3.95477390289"
       ]
      },
      {
       "output_type": "stream",
       "stream": "stdout",
       "text": [
        " 7.04522609711\n",
        "3.52261304855\n",
        "4.05560898781"
       ]
      },
      {
       "output_type": "stream",
       "stream": "stdout",
       "text": [
        " 6.94439101219\n",
        "3.4721955061\n",
        "4.15708303452"
       ]
      },
      {
       "output_type": "stream",
       "stream": "stdout",
       "text": [
        " 6.84291696548\n",
        "3.42145848274\n",
        "4.25851798058"
       ]
      },
      {
       "output_type": "stream",
       "stream": "stdout",
       "text": [
        " 6.74148201942\n",
        "3.37074100971\n",
        "4.35919308662"
       ]
      },
      {
       "output_type": "stream",
       "stream": "stdout",
       "text": [
        " 6.64080691338\n",
        "3.32040345669\n",
        "4.45996499062"
       ]
      },
      {
       "output_type": "stream",
       "stream": "stdout",
       "text": [
        " 6.54003500938\n",
        "3.27001750469\n",
        "4.56139707565"
       ]
      },
      {
       "output_type": "stream",
       "stream": "stdout",
       "text": [
        " 6.43860292435\n",
        "3.21930146217\n",
        "4.66236209869"
       ]
      },
      {
       "output_type": "stream",
       "stream": "stdout",
       "text": [
        " 6.33763790131\n",
        "3.16881895065\n",
        "4.76334905624"
       ]
      },
      {
       "output_type": "stream",
       "stream": "stdout",
       "text": [
        " 6.23665094376\n",
        "3.11832547188\n",
        "4.86498999596"
       ]
      },
      {
       "output_type": "stream",
       "stream": "stdout",
       "text": [
        " 6.13501000404\n",
        "3.06750500202\n",
        "4.96651005745"
       ]
      },
      {
       "output_type": "stream",
       "stream": "stdout",
       "text": [
        " 6.03348994255\n",
        "3.01674497128\n",
        "5.06741690636"
       ]
      },
      {
       "output_type": "stream",
       "stream": "stdout",
       "text": [
        " 5.93258309364\n",
        "2.96629154682\n",
        "5.16886210442"
       ]
      },
      {
       "output_type": "stream",
       "stream": "stdout",
       "text": [
        " 5.83113789558\n",
        "2.91556894779\n",
        "5.26960492134"
       ]
      },
      {
       "output_type": "stream",
       "stream": "stdout",
       "text": [
        " 5.73039507866\n",
        "2.86519753933\n",
        "5.37117099762"
       ]
      },
      {
       "output_type": "stream",
       "stream": "stdout",
       "text": [
        " 5.62882900238\n",
        "2.81441450119\n",
        "5.47284698486"
       ]
      },
      {
       "output_type": "stream",
       "stream": "stdout",
       "text": [
        " 5.52715301514\n",
        "2.76357650757\n",
        "5.57437992096"
       ]
      },
      {
       "output_type": "stream",
       "stream": "stdout",
       "text": [
        " 5.42562007904\n",
        "2.71281003952\n",
        "5.67505598068"
       ]
      },
      {
       "output_type": "stream",
       "stream": "stdout",
       "text": [
        " 5.32494401932\n",
        "2.66247200966\n",
        "5.77572512627"
       ]
      },
      {
       "output_type": "stream",
       "stream": "stdout",
       "text": [
        " 5.22427487373\n",
        "2.61213743687\n",
        "5.87649202347"
       ]
      },
      {
       "output_type": "stream",
       "stream": "stdout",
       "text": [
        " 5.12350797653\n",
        "2.56175398827\n",
        "5.97804403305"
       ]
      },
      {
       "output_type": "stream",
       "stream": "stdout",
       "text": [
        " 5.02195596695\n",
        "2.51097798347\n",
        "6.07952404022"
       ]
      },
      {
       "output_type": "stream",
       "stream": "stdout",
       "text": [
        " 4.92047595978\n",
        "2.46023797989\n",
        "6.18020009995"
       ]
      },
      {
       "output_type": "stream",
       "stream": "stdout",
       "text": [
        " 4.81979990005\n",
        "2.40989995003\n",
        "6.28101205826"
       ]
      },
      {
       "output_type": "stream",
       "stream": "stdout",
       "text": [
        " 4.71898794174\n",
        "2.35949397087\n",
        "6.38244700432"
       ]
      },
      {
       "output_type": "stream",
       "stream": "stdout",
       "text": [
        " 4.61755299568\n",
        "2.30877649784\n",
        "6.48394012451"
       ]
      },
      {
       "output_type": "stream",
       "stream": "stdout",
       "text": [
        " 4.51605987549\n",
        "2.25802993774\n",
        "6.58542895317"
       ]
      },
      {
       "output_type": "stream",
       "stream": "stdout",
       "text": [
        " 4.41457104683\n",
        "2.20728552341\n",
        "6.68690800667"
       ]
      },
      {
       "output_type": "stream",
       "stream": "stdout",
       "text": [
        " 4.31309199333\n",
        "2.15654599667\n",
        "6.78836202621"
       ]
      },
      {
       "output_type": "stream",
       "stream": "stdout",
       "text": [
        " 4.21163797379\n",
        "2.10581898689\n",
        "6.88972306252"
       ]
      },
      {
       "output_type": "stream",
       "stream": "stdout",
       "text": [
        " 4.11027693748\n",
        "2.05513846874\n",
        "6.99243998528"
       ]
      },
      {
       "output_type": "stream",
       "stream": "stdout",
       "text": [
        " 4.00756001472\n",
        "2.00378000736\n",
        "7.09319710732"
       ]
      },
      {
       "output_type": "stream",
       "stream": "stdout",
       "text": [
        " 3.90680289268\n",
        "1.95340144634\n",
        "7.1948530674"
       ]
      },
      {
       "output_type": "stream",
       "stream": "stdout",
       "text": [
        " 3.8051469326\n",
        "1.9025734663\n",
        "7.29553604126"
       ]
      },
      {
       "output_type": "stream",
       "stream": "stdout",
       "text": [
        " 3.70446395874\n",
        "1.85223197937\n",
        "7.39626193047"
       ]
      },
      {
       "output_type": "stream",
       "stream": "stdout",
       "text": [
        " 3.60373806953\n",
        "1.80186903477\n",
        "7.49784302711"
       ]
      },
      {
       "output_type": "stream",
       "stream": "stdout",
       "text": [
        " 3.50215697289\n",
        "1.75107848644\n",
        "7.598747015"
       ]
      },
      {
       "output_type": "stream",
       "stream": "stdout",
       "text": [
        " 3.401252985\n",
        "1.7006264925\n",
        "7.70027804375"
       ]
      },
      {
       "output_type": "stream",
       "stream": "stdout",
       "text": [
        " 3.29972195625\n",
        "1.64986097813\n",
        "7.80103302002"
       ]
      },
      {
       "output_type": "stream",
       "stream": "stdout",
       "text": [
        " 3.19896697998\n",
        "1.59948348999\n",
        "7.90179491043"
       ]
      },
      {
       "output_type": "stream",
       "stream": "stdout",
       "text": [
        " 3.09820508957\n",
        "1.54910254478\n",
        "8.00333094597"
       ]
      },
      {
       "output_type": "stream",
       "stream": "stdout",
       "text": [
        " 2.99666905403\n",
        "1.49833452702\n",
        "8.10406112671"
       ]
      },
      {
       "output_type": "stream",
       "stream": "stdout",
       "text": [
        " 2.89593887329\n",
        "1.44796943665\n",
        "8.20551300049"
       ]
      },
      {
       "output_type": "stream",
       "stream": "stdout",
       "text": [
        " 2.79448699951\n",
        "1.39724349976\n",
        "8.30688095093"
       ]
      },
      {
       "output_type": "stream",
       "stream": "stdout",
       "text": [
        " 2.69311904907\n",
        "1.34655952454\n",
        "8.40978312492"
       ]
      },
      {
       "output_type": "stream",
       "stream": "stdout",
       "text": [
        " 2.59021687508\n",
        "1.29510843754\n",
        "8.51122307777"
       ]
      },
      {
       "output_type": "stream",
       "stream": "stdout",
       "text": [
        " 2.48877692223\n",
        "1.24438846111\n",
        "8.61195206642"
       ]
      },
      {
       "output_type": "stream",
       "stream": "stdout",
       "text": [
        " 2.38804793358\n",
        "1.19402396679\n",
        "8.7126429081"
       ]
      },
      {
       "output_type": "stream",
       "stream": "stdout",
       "text": [
        " 2.2873570919\n",
        "1.14367854595\n",
        "8.81412911415"
       ]
      },
      {
       "output_type": "stream",
       "stream": "stdout",
       "text": [
        " 2.18587088585\n",
        "1.09293544292\n",
        "8.91562795639"
       ]
      },
      {
       "output_type": "stream",
       "stream": "stdout",
       "text": [
        " 2.08437204361\n",
        "1.0421860218\n",
        "9.01723408699"
       ]
      },
      {
       "output_type": "stream",
       "stream": "stdout",
       "text": [
        " 1.98276591301\n",
        "0.991382956505\n",
        "9.11869001389"
       ]
      },
      {
       "output_type": "stream",
       "stream": "stdout",
       "text": [
        " 1.88130998611\n",
        "0.940654993057\n",
        "9.21940398216"
       ]
      },
      {
       "output_type": "stream",
       "stream": "stdout",
       "text": [
        " 1.78059601784\n",
        "0.890298008919\n",
        "9.32011890411"
       ]
      },
      {
       "output_type": "stream",
       "stream": "stdout",
       "text": [
        " 1.67988109589\n",
        "0.839940547943\n",
        "9.4208419323"
       ]
      },
      {
       "output_type": "stream",
       "stream": "stdout",
       "text": [
        " 1.5791580677\n",
        "0.789579033852\n",
        "9.52155208588"
       ]
      },
      {
       "output_type": "stream",
       "stream": "stdout",
       "text": [
        " 1.47844791412\n",
        "0.739223957062\n",
        "9.62227296829"
       ]
      },
      {
       "output_type": "stream",
       "stream": "stdout",
       "text": [
        " 1.37772703171\n",
        "0.688863515854\n",
        "9.72387194633"
       ]
      },
      {
       "output_type": "stream",
       "stream": "stdout",
       "text": [
        " 1.27612805367\n",
        "0.638064026833\n",
        "9.82542300224"
       ]
      },
      {
       "output_type": "stream",
       "stream": "stdout",
       "text": [
        " 1.17457699776\n",
        "0.587288498878\n",
        "9.92695307732"
       ]
      },
      {
       "output_type": "stream",
       "stream": "stdout",
       "text": [
        " 1.07304692268\n",
        "0.536523461342\n",
        "10.0284540653"
       ]
      },
      {
       "output_type": "stream",
       "stream": "stdout",
       "text": [
        " 0.971545934677\n",
        "0.485772967339\n",
        "10.1299021244"
       ]
      },
      {
       "output_type": "stream",
       "stream": "stdout",
       "text": [
        " 0.870097875595\n",
        "0.435048937798\n",
        "10.2308549881"
       ]
      },
      {
       "output_type": "stream",
       "stream": "stdout",
       "text": [
        " 0.769145011902\n",
        "0.384572505951\n",
        "10.3316180706"
       ]
      },
      {
       "output_type": "stream",
       "stream": "stdout",
       "text": [
        " 0.668381929398\n",
        "0.334190964699\n",
        "10.4331059456"
       ]
      },
      {
       "output_type": "stream",
       "stream": "stdout",
       "text": [
        " 0.566894054413\n",
        "0.283447027206\n",
        "10.5340940952"
       ]
      },
      {
       "output_type": "stream",
       "stream": "stdout",
       "text": [
        " 0.46590590477\n",
        "0.232952952385\n",
        "10.6348769665"
       ]
      },
      {
       "output_type": "stream",
       "stream": "stdout",
       "text": [
        " 0.365123033524\n",
        "0.182561516762\n",
        "10.736426115"
       ]
      },
      {
       "output_type": "stream",
       "stream": "stdout",
       "text": [
        " 0.263573884964\n",
        "0.131786942482\n",
        "10.837182045"
       ]
      },
      {
       "output_type": "stream",
       "stream": "stdout",
       "text": [
        " 0.162817955017\n",
        "0.0814089775085\n",
        "10.9382410049"
       ]
      },
      {
       "output_type": "stream",
       "stream": "stdout",
       "text": [
        " 0.0617589950562\n",
        "0.0308794975281\n",
        "0.0398659706116"
       ]
      },
      {
       "output_type": "stream",
       "stream": "stdout",
       "text": [
        " 0.398659706116\n",
        "0.199329853058\n",
        "0.140949964523"
       ]
      },
      {
       "output_type": "stream",
       "stream": "stdout",
       "text": [
        " 1.40949964523\n",
        "0.704749822617\n",
        "0.242543935776"
       ]
      },
      {
       "output_type": "stream",
       "stream": "stdout",
       "text": [
        " 2.42543935776\n",
        "1.21271967888\n",
        "0.343576908112"
       ]
      },
      {
       "output_type": "stream",
       "stream": "stdout",
       "text": [
        " 3.43576908112\n",
        "1.71788454056\n",
        "0.444513082504"
       ]
      },
      {
       "output_type": "stream",
       "stream": "stdout",
       "text": [
        " 4.44513082504\n",
        "2.22256541252\n",
        "0.546057939529"
       ]
      },
      {
       "output_type": "stream",
       "stream": "stdout",
       "text": [
        " 5.46057939529\n",
        "2.73028969765\n",
        "0.646826028824"
       ]
      },
      {
       "output_type": "stream",
       "stream": "stdout",
       "text": [
        " 6.46826028824\n",
        "3.23413014412\n",
        "0.748359918594"
       ]
      },
      {
       "output_type": "stream",
       "stream": "stdout",
       "text": [
        " 7.48359918594\n",
        "3.74179959297\n",
        "0.849229097366"
       ]
      },
      {
       "output_type": "stream",
       "stream": "stdout",
       "text": [
        " 8.49229097366\n",
        "4.24614548683\n",
        "0.950923919678"
       ]
      },
      {
       "output_type": "stream",
       "stream": "stdout",
       "text": [
        " 9.50923919678\n",
        "4.75461959839\n",
        "1.05243492126"
       ]
      },
      {
       "output_type": "stream",
       "stream": "stdout",
       "text": [
        " 9.94756507874\n",
        "4.97378253937\n"
       ]
      }
     ],
     "prompt_number": 67
    },
    {
     "cell_type": "code",
     "collapsed": false,
     "input": [
      "time_started\n"
     ],
     "language": "python",
     "metadata": {},
     "outputs": [
      {
       "metadata": {},
       "output_type": "pyout",
       "prompt_number": 23,
       "text": [
        "1394882742.783418"
       ]
      }
     ],
     "prompt_number": 23
    },
    {
     "cell_type": "code",
     "collapsed": false,
     "input": [],
     "language": "python",
     "metadata": {},
     "outputs": []
    }
   ],
   "metadata": {}
  }
 ]
}