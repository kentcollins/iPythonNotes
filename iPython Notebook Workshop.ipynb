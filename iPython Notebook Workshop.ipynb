{
 "metadata": {
  "name": ""
 },
 "nbformat": 3,
 "nbformat_minor": 0,
 "worksheets": [
  {
   "cells": [
    {
     "cell_type": "heading",
     "level": 1,
     "metadata": {},
     "source": [
      "fernando perez\n",
      "creator of iPython"
     ]
    },
    {
     "cell_type": "raw",
     "metadata": {},
     "source": [
      "Backend is server and front end is browser\n",
      "Shift-enter == run\n",
      "Uses Mathjax as latex presenter\n",
      "Digital lab notebook\n",
      "Several journals will use iPython notebook driven through Latex converter\n",
      "Greg Wilson (greg@mozillafoundation.org) "
     ]
    },
    {
     "cell_type": "markdown",
     "metadata": {},
     "source": [
      "# title\n"
     ]
    },
    {
     "cell_type": "raw",
     "metadata": {},
     "source": [
      "interleave analysis and coding\n",
      "Bad thing - following cells are not updated. Cells are executed when requested, not auto update\n",
      "Some people expect that change above will propogate"
     ]
    },
    {
     "cell_type": "code",
     "collapsed": false,
     "input": [
      "from ipythonblocks import ImageGrid\n",
      "g = ImageGrid(3,5)\n",
      "for x in range(g.width):\n",
      "    for y in range(g.height):\n",
      "        if x<y:\n",
      "            g[x,y].red = 128;\n",
      "g.show()\n"
     ],
     "language": "python",
     "metadata": {},
     "outputs": [
      {
       "ename": "ImportError",
       "evalue": "No module named ipythonblocks",
       "output_type": "pyerr",
       "traceback": [
        "\u001b[1;31m---------------------------------------------------------------------------\u001b[0m\n\u001b[1;31mImportError\u001b[0m                               Traceback (most recent call last)",
        "\u001b[1;32m<ipython-input-4-08b227b3f391>\u001b[0m in \u001b[0;36m<module>\u001b[1;34m()\u001b[0m\n\u001b[1;32m----> 1\u001b[1;33m \u001b[1;32mfrom\u001b[0m \u001b[0mipythonblocks\u001b[0m \u001b[1;32mimport\u001b[0m \u001b[0mImageGrid\u001b[0m\u001b[1;33m\u001b[0m\u001b[0m\n\u001b[0m\u001b[0;32m      2\u001b[0m \u001b[0mg\u001b[0m \u001b[1;33m=\u001b[0m \u001b[0mImageGrid\u001b[0m\u001b[1;33m(\u001b[0m\u001b[1;36m3\u001b[0m\u001b[1;33m,\u001b[0m\u001b[1;36m5\u001b[0m\u001b[1;33m)\u001b[0m\u001b[1;33m\u001b[0m\u001b[0m\n\u001b[0;32m      3\u001b[0m \u001b[1;32mfor\u001b[0m \u001b[0mx\u001b[0m \u001b[1;32min\u001b[0m \u001b[0mrange\u001b[0m\u001b[1;33m(\u001b[0m\u001b[0mg\u001b[0m\u001b[1;33m.\u001b[0m\u001b[0mwidth\u001b[0m\u001b[1;33m)\u001b[0m\u001b[1;33m:\u001b[0m\u001b[1;33m\u001b[0m\u001b[0m\n\u001b[0;32m      4\u001b[0m     \u001b[1;32mfor\u001b[0m \u001b[0my\u001b[0m \u001b[1;32min\u001b[0m \u001b[0mrange\u001b[0m\u001b[1;33m(\u001b[0m\u001b[0mg\u001b[0m\u001b[1;33m.\u001b[0m\u001b[0mheight\u001b[0m\u001b[1;33m)\u001b[0m\u001b[1;33m:\u001b[0m\u001b[1;33m\u001b[0m\u001b[0m\n\u001b[0;32m      5\u001b[0m         \u001b[1;32mif\u001b[0m \u001b[0mx\u001b[0m\u001b[1;33m<\u001b[0m\u001b[0my\u001b[0m\u001b[1;33m:\u001b[0m\u001b[1;33m\u001b[0m\u001b[0m\n",
        "\u001b[1;31mImportError\u001b[0m: No module named ipythonblocks"
       ]
      }
     ],
     "prompt_number": 4
    },
    {
     "cell_type": "markdown",
     "metadata": {},
     "source": [
      "Look up media computation Guzdial and Ericson\n",
      "Diff maintained by open course project +-[diff]\n",
      "Peter Norvig is converting his AI textbook to iPython \n",
      "Nose is an add-on that will incorporate testing into iPython notebook\n",
      "Makes reader more participatory \n",
      "\n",
      "Cam McDonald - University in Canada, 3d year class in software engineering.\n",
      "Douglas Blank and Keith O'Hara - Calico Project program robots in Python.  Bryn Mawr/Bard College.\n",
      "CALICO - \n",
      "Keith O'Hara AMAZING use of real time camera capture in iPython, photo snapshot, Arduino in real time, etc.\n",
      "Myro - talk to robot drones using iPython notebook\n",
      "\n",
      "\"Literate Computing\" Fernando Perez.  Reading, writing and Computing\n",
      "\n",
      "Mazur, 1997 ask students to develop own computational notebooks for sharing with peers\n",
      "\n",
      "Mark Ebersole (Nvidia) demonstrated HTML in an iPython notebook and included an IDE and a Terminal window running from an Amazon backend.\n",
      "\n",
      "Fernando Perez, Berkeley.  Broader Ecosystem. iPython notebook will load any URL notebook (that doesn't require https)\n",
      "Using same-time iPython for collaborative/pair programming;\n",
      "Defining protocols for notebooks but trying to remain language agnostic\n",
      "\n",
      "Levels of undo - when you hit Save, it creates a Checkpoint to which you can undo\n",
      "Preparing a server that can be customized so that multi-users, consistent libraries, can participate\n",
      "iPython has a profile command that can be used to configure the environment\n",
      "Literate programming suggests that breaking cells into text and code, separating control flow\n",
      "Open source Etherpad -- play back history\n",
      "\n",
      "Repl.it Python"
     ]
    },
    {
     "cell_type": "code",
     "collapsed": false,
     "input": [
      "%%lang Java\n"
     ],
     "language": "python",
     "metadata": {},
     "outputs": [
      {
       "output_type": "stream",
       "stream": "stderr",
       "text": [
        "ERROR: Cell magic `%%lang` not found.\n"
       ]
      }
     ],
     "prompt_number": 3
    },
    {
     "cell_type": "code",
     "collapsed": false,
     "input": [],
     "language": "python",
     "metadata": {},
     "outputs": [],
     "prompt_number": 2
    }
   ],
   "metadata": {}
  }
 ]
}