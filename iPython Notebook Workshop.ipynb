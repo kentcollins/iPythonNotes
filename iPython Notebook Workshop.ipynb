{
 "metadata": {
  "name": "iPython Notebook Workshop.ipynb"
 },
 "nbformat": 3,
 "nbformat_minor": 0,
 "worksheets": [
  {
   "cells": [
    {
     "cell_type": "heading",
     "level": 1,
     "metadata": {},
     "source": [
      "fernando perez\n",
      "creator of iPython"
     ]
    },
    {
     "cell_type": "raw",
     "metadata": {},
     "source": [
      "Backend is server and front end is browser\n",
      "Shift-enter == run\n",
      "Uses Mathjax as latex presenter\n",
      "Digital lab notebook\n",
      "Several journals will use iPython notebook driven through Latex converter\n",
      "Greg Wilson (greg@mozillafoundation.org) "
     ]
    },
    {
     "cell_type": "markdown",
     "metadata": {},
     "source": [
      "# title\n"
     ]
    },
    {
     "cell_type": "raw",
     "metadata": {},
     "source": [
      "interleave analysis and coding\n",
      "Bad thing - following cells are not updated. Cells are executed when requested, not auto update\n",
      "Some people expect that change above will propogate"
     ]
    },
    {
     "cell_type": "code",
     "collapsed": false,
     "input": [
      "from ipythonblocks import ImageGrid\n",
      "g = ImageGrid(3,5)\n",
      "for x in range(g.width):\n",
      "    for y in range(g.height):\n",
      "        if x<y:\n",
      "            g[x,y].red = 128;\n",
      "g.show()\n"
     ],
     "language": "python",
     "metadata": {},
     "outputs": [
      {
       "html": [
        "<style type=\"text/css\">table.blockgrid {border: none;} .blockgrid tr {border: none;} .blockgrid td {padding: 0px;} #blocks38511767-7a4a-4f81-8804-a6d48f1d87b1 td {border: 1px solid white;}</style><table id=\"blocks38511767-7a4a-4f81-8804-a6d48f1d87b1\" class=\"blockgrid\"><tbody><tr><td title=\"Index: [0, 4]&#10;Color: (128, 0, 0)\" style=\"width: 20px; height: 20px;background-color: rgb(128, 0, 0);\"></td><td title=\"Index: [1, 4]&#10;Color: (128, 0, 0)\" style=\"width: 20px; height: 20px;background-color: rgb(128, 0, 0);\"></td><td title=\"Index: [2, 4]&#10;Color: (128, 0, 0)\" style=\"width: 20px; height: 20px;background-color: rgb(128, 0, 0);\"></td></tr><tr><td title=\"Index: [0, 3]&#10;Color: (128, 0, 0)\" style=\"width: 20px; height: 20px;background-color: rgb(128, 0, 0);\"></td><td title=\"Index: [1, 3]&#10;Color: (128, 0, 0)\" style=\"width: 20px; height: 20px;background-color: rgb(128, 0, 0);\"></td><td title=\"Index: [2, 3]&#10;Color: (128, 0, 0)\" style=\"width: 20px; height: 20px;background-color: rgb(128, 0, 0);\"></td></tr><tr><td title=\"Index: [0, 2]&#10;Color: (128, 0, 0)\" style=\"width: 20px; height: 20px;background-color: rgb(128, 0, 0);\"></td><td title=\"Index: [1, 2]&#10;Color: (128, 0, 0)\" style=\"width: 20px; height: 20px;background-color: rgb(128, 0, 0);\"></td><td title=\"Index: [2, 2]&#10;Color: (0, 0, 0)\" style=\"width: 20px; height: 20px;background-color: rgb(0, 0, 0);\"></td></tr><tr><td title=\"Index: [0, 1]&#10;Color: (128, 0, 0)\" style=\"width: 20px; height: 20px;background-color: rgb(128, 0, 0);\"></td><td title=\"Index: [1, 1]&#10;Color: (0, 0, 0)\" style=\"width: 20px; height: 20px;background-color: rgb(0, 0, 0);\"></td><td title=\"Index: [2, 1]&#10;Color: (0, 0, 0)\" style=\"width: 20px; height: 20px;background-color: rgb(0, 0, 0);\"></td></tr><tr><td title=\"Index: [0, 0]&#10;Color: (0, 0, 0)\" style=\"width: 20px; height: 20px;background-color: rgb(0, 0, 0);\"></td><td title=\"Index: [1, 0]&#10;Color: (0, 0, 0)\" style=\"width: 20px; height: 20px;background-color: rgb(0, 0, 0);\"></td><td title=\"Index: [2, 0]&#10;Color: (0, 0, 0)\" style=\"width: 20px; height: 20px;background-color: rgb(0, 0, 0);\"></td></tr></tbody></table>"
       ],
       "metadata": {},
       "output_type": "display_data",
       "text": [
        "<IPython.core.display.HTML at 0x988d9ac>"
       ]
      }
     ],
     "prompt_number": 6
    },
    {
     "cell_type": "markdown",
     "metadata": {},
     "source": [
      "Look up media computation Guzdial and Ericson\n",
      "Diff maintained by open course project +-[diff]\n",
      "Peter Norvig is converting his AI textbook to iPython \n",
      "Nose is an add-on that will incorporate testing into iPython notebook\n",
      "Makes reader more participatory \n",
      "\n",
      "Cam McDonald - University in Canada, 3d year class in software engineering.\n",
      "Douglas Blank and Keith O'Hara - Calico Project program robots in Python.  Bryn Mawr/Bard College.\n",
      "CALICO - \n",
      "Keith O'Hara AMAZING use of real time camera capture in iPython, photo snapshot, Arduino in real time, etc.\n",
      "Myro - talk to robot drones using iPython notebook\n",
      "\n",
      "\"Literate Computing\" Fernando Perez.  Reading, writing and Computing\n",
      "\n",
      "Mazur, 1997 ask students to develop own computational notebooks for sharing with peers\n",
      "\n",
      "Mark Ebersole (Nvidia) demonstrated HTML in an iPython notebook and included an IDE and a Terminal window running from an Amazon backend.\n",
      "\n",
      "Fernando Perez, Berkeley.  Broader Ecosystem. iPython notebook will load any URL notebook (that doesn't require https)\n",
      "Using same-time iPython for collaborative/pair programming;\n",
      "Defining protocols for notebooks but trying to remain language agnostic\n",
      "\n",
      "Levels of undo - when you hit Save, it creates a Checkpoint to which you can undo\n",
      "Preparing a server that can be customized so that multi-users, consistent libraries, can participate\n",
      "iPython has a profile command that can be used to configure the environment\n",
      "Literate programming suggests that breaking cells into text and code, separating control flow\n",
      "Open source Etherpad -- play back history\n",
      "\n",
      "Repl.it Python"
     ]
    },
    {
     "cell_type": "code",
     "collapsed": false,
     "input": [
      "%%%lang Java"
     ],
     "language": "python",
     "metadata": {},
     "outputs": [
      {
       "output_type": "stream",
       "stream": "stderr",
       "text": [
        "ERROR: Cell magic `%%lang` not found.\n"
       ]
      }
     ],
     "prompt_number": 7
    }
   ],
   "metadata": {}
  }
 ]
}