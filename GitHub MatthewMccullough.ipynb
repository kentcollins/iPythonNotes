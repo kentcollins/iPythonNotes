{
 "metadata": {
  "name": ""
 },
 "nbformat": 3,
 "nbformat_minor": 0,
 "worksheets": [
  {
   "cells": [
    {
     "cell_type": "markdown",
     "metadata": {},
     "source": [
      "Matthew Mccull\n",
      "======\n",
      "* Version control\n",
      "* Not just for code.  Versioning any documents.\n",
      "* Fundamentally Open Source\n",
      "* started as bash shell and then c\n",
      "* Not just a slightly better subversion\n",
      "* git-scm.com Scott chacon guide to Git\n",
      "* Just file system folder -- git init project --> creates folder and .git\n",
      "* add a file -- git inspects directory on git status (managing file structure)\n",
      "* you create repositories on your own machine (no licence, premission, connection, etc.)\n",
      "* great for version control on local machine -- layered on top is the ability to share\n",
      "* git facilitates changing code into small independently manageable chunks\n",
      "* ratio of commit message to chagne can be 10 to 1 -- more important to document why changing\n",
      "* \"remote add\" creates a bookmark (simple name) to URL\n",
      "* master is primary branch but name can be changed to anything\n",
      "* only when make commits to a server are you questioned for authentication\n",
      "* Chronology is maintained -- time of commits is not changed when sent to server\n",
      "* web user interface useful\n",
      "* can add collaborators to projects in project settings\n"
     ]
    },
    {
     "cell_type": "markdown",
     "metadata": {},
     "source": [
      "Collaboration\n",
      "======\n",
      "* simultaneous changes to a file\n",
      "* git pull gives most recent changes (refresh)\n",
      "* add, commit, blame (history of how got to final result)\n",
      "* git pull if can't auto merge\n",
      "* can give template, do auto grading, view student work but they can't see, etc."
     ]
    },
    {
     "cell_type": "markdown",
     "metadata": {},
     "source": [
      "\n"
     ]
    },
    {
     "cell_type": "markdown",
     "metadata": {},
     "source": [
      "Permissions\n",
      "======\n",
      "* Professor, teams, individuals, etc.\n",
      "* When first create repo, dropdown can specify owner\n",
      "* Through Collaborators tab, can choose which teams have access\n",
      "* teams can have access (read-only) but still be able to contribute\n",
      "* students with read-only can gork a complete copy into their own directory\n",
      "* skitch used to demo operations\n",
      "* students with own fork can submit pull-requests, including feedback loop\n",
      "* can tell by who has forked the number of students working on the assignment\n",
      "* opportunity for students to horizontal compare\n",
      "* colon in MD creates emoji\n",
      "* when reviewing pull requests, can comment on just a single line or group of lines\n",
      "*\"Check out this code\" allows you to bring into your ide for evaluation prior to accecpting pull request\n",
      "* create a branch for each and every change you are considering (task decomposition)\n",
      "* opendiff, kdiff, and beyondcompare can provide side-by-side comparison tools\n",
      "* circleci.com provides continuous integration that coordinates with Github\n",
      "* ci systems can feedback the results of tests in metadata for each branch\n",
      "* travis ci runs any public or open source github repository code, or you could run your own jenkins server"
     ]
    },
    {
     "cell_type": "code",
     "collapsed": false,
     "input": [],
     "language": "python",
     "metadata": {},
     "outputs": []
    },
    {
     "cell_type": "code",
     "collapsed": false,
     "input": [],
     "language": "python",
     "metadata": {},
     "outputs": []
    }
   ],
   "metadata": {}
  }
 ]
}