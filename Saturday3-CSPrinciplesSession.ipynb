{
 "metadata": {
  "name": ""
 },
 "nbformat": 3,
 "nbformat_minor": 0,
 "worksheets": [
  {
   "cells": [
    {
     "cell_type": "markdown",
     "metadata": {},
     "source": [
      "Pat Yongpradit\n",
      "===\n",
      "* Code.org K-12 in 9 regions.\n",
      "* Late June parts of the curriculum available\n",
      "* Pat phillips, code.org curriculum manager\n",
      "\n",
      "\n",
      "Lien \n",
      "Amy\n",
      "Owen\n",
      "\n",
      "Manage Mats -- Shoulder partners and Face partners, 1,2,3,4 and A/B -- Cooperative Learning\n",
      "\n",
      "Teams of Four (if necessary, three)\n",
      "\n",
      "Rally Robin - Discussing in pairs.  Shoulder partners then face partners."
     ]
    },
    {
     "cell_type": "markdown",
     "metadata": {},
     "source": [
      "T-Shirts for recruitment - recoup cost of shirts, only"
     ]
    },
    {
     "cell_type": "markdown",
     "metadata": {},
     "source": [
      "Timed sharing - split the times.  When the timer is up, both should be done"
     ]
    },
    {
     "cell_type": "markdown",
     "metadata": {},
     "source": [
      "Round robin.  One at a time.  Take turns.  Timed.  Two minutes, one each.  Group of four, each gets 1 minute, self-discilplined.  No one on the spot but all were talking.  Split time equitably.  Voxer - voice to walkie-talkie.  Tin-eye image locator on web. Reporting out/answering can be done peer-instruction wise with clickers."
     ]
    },
    {
     "cell_type": "markdown",
     "metadata": {},
     "source": [
      "Positive engagement is key to success, so talking is a good classroom."
     ]
    },
    {
     "cell_type": "markdown",
     "metadata": {},
     "source": [
      "Next time, teach Explore then co-teach Data and Programming -- University of Washington Data Programming course."
     ]
    },
    {
     "cell_type": "markdown",
     "metadata": {},
     "source": [
      "CS: Principles highlights of framework.\n",
      "====\n",
      "Framework for the 2014-2015 school year.\n",
      "\n",
      "Posted at <a href=\"http://www.CSPrinciples.org\"> CS Principles Web Site </a>\n",
      "\n",
      "Don't be the jealous troll.\n",
      "\n",
      "\n",
      "\n"
     ]
    },
    {
     "cell_type": "code",
     "collapsed": false,
     "input": [],
     "language": "python",
     "metadata": {},
     "outputs": []
    },
    {
     "cell_type": "code",
     "collapsed": false,
     "input": [],
     "language": "python",
     "metadata": {},
     "outputs": []
    },
    {
     "cell_type": "code",
     "collapsed": false,
     "input": [],
     "language": "python",
     "metadata": {},
     "outputs": []
    },
    {
     "cell_type": "code",
     "collapsed": false,
     "input": [],
     "language": "python",
     "metadata": {},
     "outputs": []
    }
   ],
   "metadata": {}
  }
 ]
}